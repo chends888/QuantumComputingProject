{
 "cells": [
  {
   "cell_type": "markdown",
   "id": "4d3dba73-3018-44b4-ad9f-079f60c91f77",
   "metadata": {},
   "source": [
    "# Traveling Salesperson Problem\n",
    "\n",
    "O código abaixo resolve o TSP para um número 'N' de pontos e encontra o melhor caminho possível em tempo O(!n-1)"
   ]
  },
  {
   "cell_type": "code",
   "execution_count": 16,
   "id": "e4521928-c0b1-4cbf-afb2-b1c23ec3aa15",
   "metadata": {},
   "outputs": [],
   "source": [
    "import random\n",
    "import math"
   ]
  },
  {
   "cell_type": "code",
   "execution_count": 17,
   "id": "aaa86e67-4eb3-4c5b-8992-9cffe39f4e35",
   "metadata": {},
   "outputs": [],
   "source": [
    "def dist(p1, p2):\n",
    "    '''\n",
    "        Distance between two points\n",
    "    '''\n",
    "    return math.sqrt((p1[0] - p2[0])**2 + (p1[1] - p2[1])**2)\n",
    "\n",
    "def path_dist(best_sol, points):\n",
    "    '''\n",
    "        Calculate the total distance of a specific path\n",
    "    '''\n",
    "    d = dist(points[best_sol[-1]], points[best_sol[0]])\n",
    "    for i in range(len(best_sol)-1):\n",
    "        d += dist(points[best_sol[i]], points[best_sol[i+1]])\n",
    "    return d\n",
    "\n",
    "def backtrack(points, idx, curr_cost, curr_sol, best_cost, best_sol):\n",
    "    # idx is at the end, so return the current best solution\n",
    "    if idx == len(points):\n",
    "        curr_cost += dist(points[curr_sol[0]], points[curr_sol[-1]])\n",
    "        if curr_cost < best_cost:\n",
    "            best_sol[:] = curr_sol.copy()\n",
    "            best_cost = curr_cost\n",
    "            # print('best:', best_cost, file=sys.stderr)\n",
    "        count.append(0)\n",
    "        return best_cost\n",
    "\n",
    "    # Change the 'i', which is the start point for the new recursive call\n",
    "    for i in range(len(points)):\n",
    "        if not usado[i]:\n",
    "            usado[i] = True\n",
    "            curr_sol[idx] = i\n",
    "\n",
    "            new_cost = curr_cost + dist(points[curr_sol[idx-1]], points[curr_sol[idx]])\n",
    "            best_cost = backtrack(points, idx+1, new_cost, curr_sol, best_cost, best_sol)\n",
    "\n",
    "            usado[i] = False\n",
    "            curr_sol[idx] = -1\n",
    "\n",
    "    return best_cost\n"
   ]
  },
  {
   "cell_type": "code",
   "execution_count": 20,
   "id": "07be4fbf-022b-47cf-be2d-760c68c501bc",
   "metadata": {},
   "outputs": [],
   "source": [
    "# Parameters\n",
    "\n",
    "# Number of points\n",
    "N = 11"
   ]
  },
  {
   "cell_type": "code",
   "execution_count": 21,
   "id": "71ad7336-a28b-4f3c-8abc-e1c12b99bc5f",
   "metadata": {},
   "outputs": [
    {
     "name": "stdout",
     "output_type": "stream",
     "text": [
      "25152.70104 1\n",
      "0 7 6 9 10 2 8 5 1 3 4\n",
      "Total tries: 3628800\n"
     ]
    }
   ],
   "source": [
    "count = []\n",
    "\n",
    "points = []\n",
    "\n",
    "sz = random.randint(1000, 10000)\n",
    "for i in range(N):\n",
    "    x = random.random() * sz\n",
    "    y = random.random() * sz\n",
    "    points.append((x, y))\n",
    "\n",
    "usado = [False] * N\n",
    "curr_sol = [-1] * N\n",
    "best_sol = [-1] * N\n",
    "\n",
    "curr_sol[0] = 0\n",
    "usado[0] = True\n",
    "\n",
    "backtrack(points, 1, 0, curr_sol, math.inf, best_sol)\n",
    "print('{:.5f}'.format(round(path_dist(best_sol, points), 5)), '1')\n",
    "print(' '.join([str(i) for i in best_sol]))\n",
    "print('Total tries:', len(count))"
   ]
  },
  {
   "cell_type": "code",
   "execution_count": null,
   "id": "2cfd7987-9096-4832-8ed5-fd842a62faaa",
   "metadata": {},
   "outputs": [],
   "source": []
  },
  {
   "cell_type": "code",
   "execution_count": null,
   "id": "c428e21c-2651-4e38-a5cd-279bfb312dec",
   "metadata": {},
   "outputs": [],
   "source": []
  },
  {
   "cell_type": "code",
   "execution_count": null,
   "id": "0e9bf262-3e4f-461d-a2f9-722131da1a0d",
   "metadata": {},
   "outputs": [],
   "source": []
  },
  {
   "cell_type": "code",
   "execution_count": null,
   "id": "f69bf8e3-93f9-4098-8f4f-a53a2bbdb933",
   "metadata": {},
   "outputs": [],
   "source": []
  },
  {
   "cell_type": "code",
   "execution_count": null,
   "id": "2415c311-af21-447f-8c14-a6d126d6b572",
   "metadata": {},
   "outputs": [],
   "source": []
  },
  {
   "cell_type": "code",
   "execution_count": null,
   "id": "204be3d1-a5b0-4dae-b477-6427b7b2f8b0",
   "metadata": {},
   "outputs": [],
   "source": []
  }
 ],
 "metadata": {
  "kernelspec": {
   "display_name": "Python 3 (ipykernel)",
   "language": "python",
   "name": "python3"
  },
  "language_info": {
   "codemirror_mode": {
    "name": "ipython",
    "version": 3
   },
   "file_extension": ".py",
   "mimetype": "text/x-python",
   "name": "python",
   "nbconvert_exporter": "python",
   "pygments_lexer": "ipython3",
   "version": "3.9.5"
  }
 },
 "nbformat": 4,
 "nbformat_minor": 5
}
